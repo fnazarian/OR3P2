{
 "cells": [
  {
   "cell_type": "markdown",
   "id": "55c77816-96e8-4f3f-b957-3ce9bb99d7e5",
   "metadata": {
    "tags": []
   },
   "source": [
    "# Project 2\n",
    "## Question 4\n",
    "### Franco Nazarian\n",
    "Train the ANN by solving (1.2) using a gradient decent algorithm with “optimal” step size (by solving the one-dimensional optimization problem discussed in class)"
   ]
  },
  {
   "cell_type": "code",
   "execution_count": 3,
   "id": "ecfbc09b-da31-4b99-aa1c-210c835decff",
   "metadata": {
    "tags": []
   },
   "outputs": [
    {
     "ename": "ModuleNotFoundError",
     "evalue": "No module named 'numpy'",
     "output_type": "error",
     "traceback": [
      "\u001b[0;31m---------------------------------------------------------------------------\u001b[0m",
      "\u001b[0;31mModuleNotFoundError\u001b[0m                       Traceback (most recent call last)",
      "Cell \u001b[0;32mIn[3], line 1\u001b[0m\n\u001b[0;32m----> 1\u001b[0m \u001b[38;5;28;01mimport\u001b[39;00m \u001b[38;5;21;01mnumpy\u001b[39;00m \u001b[38;5;28;01mas\u001b[39;00m \u001b[38;5;21;01mnp\u001b[39;00m\n\u001b[1;32m      2\u001b[0m \u001b[38;5;28;01mimport\u001b[39;00m \u001b[38;5;21;01mpandas\u001b[39;00m \u001b[38;5;28;01mas\u001b[39;00m \u001b[38;5;21;01mpd\u001b[39;00m\n",
      "\u001b[0;31mModuleNotFoundError\u001b[0m: No module named 'numpy'"
     ]
    }
   ],
   "source": [
    "import pandas as pd\n",
    "import numpy as np "
   ]
  },
  {
   "cell_type": "code",
   "execution_count": 4,
   "id": "afcdb956-3317-4fb2-b66a-85b6d89f794d",
   "metadata": {
    "tags": []
   },
   "outputs": [
    {
     "ename": "NameError",
     "evalue": "name 'pd' is not defined",
     "output_type": "error",
     "traceback": [
      "\u001b[0;31m---------------------------------------------------------------------------\u001b[0m",
      "\u001b[0;31mNameError\u001b[0m                                 Traceback (most recent call last)",
      "Cell \u001b[0;32mIn[4], line 1\u001b[0m\n\u001b[0;32m----> 1\u001b[0m X \u001b[38;5;241m=\u001b[39m \u001b[43mpd\u001b[49m\u001b[38;5;241m.\u001b[39mread_csv(\u001b[38;5;124m'\u001b[39m\u001b[38;5;124mtest_data_set.csv\u001b[39m\u001b[38;5;124m'\u001b[39m)\n\u001b[1;32m      2\u001b[0m X \u001b[38;5;241m=\u001b[39m X\u001b[38;5;241m.\u001b[39mT\u001b[38;5;241m.\u001b[39mreset_index()\u001b[38;5;241m.\u001b[39mT\u001b[38;5;241m.\u001b[39miloc[\u001b[38;5;241m1\u001b[39m:,:]\n\u001b[1;32m      3\u001b[0m X \u001b[38;5;241m=\u001b[39m X\u001b[38;5;241m.\u001b[39mto_numpy()\n",
      "\u001b[0;31mNameError\u001b[0m: name 'pd' is not defined"
     ]
    }
   ],
   "source": [
    "X = pd.read_csv('test_data_set.csv')\n",
    "X = X.T.reset_index().T.iloc[1:,:]\n",
    "X = X.to_numpy()"
   ]
  },
  {
   "cell_type": "code",
   "execution_count": 5,
   "id": "73033def-4df4-4bed-836c-cee7afd67011",
   "metadata": {
    "tags": []
   },
   "outputs": [
    {
     "ename": "NameError",
     "evalue": "name 'pd' is not defined",
     "output_type": "error",
     "traceback": [
      "\u001b[0;31m---------------------------------------------------------------------------\u001b[0m",
      "\u001b[0;31mNameError\u001b[0m                                 Traceback (most recent call last)",
      "Cell \u001b[0;32mIn[5], line 1\u001b[0m\n\u001b[0;32m----> 1\u001b[0m y \u001b[38;5;241m=\u001b[39m \u001b[43mpd\u001b[49m\u001b[38;5;241m.\u001b[39mread_csv(\u001b[38;5;124m'\u001b[39m\u001b[38;5;124mtest_label_set.csv\u001b[39m\u001b[38;5;124m'\u001b[39m)\n\u001b[1;32m      2\u001b[0m y \u001b[38;5;241m=\u001b[39m y\u001b[38;5;241m.\u001b[39mto_numpy()\n\u001b[1;32m      3\u001b[0m y\u001b[38;5;241m.\u001b[39mshape\n",
      "\u001b[0;31mNameError\u001b[0m: name 'pd' is not defined"
     ]
    }
   ],
   "source": [
    "y = pd.read_csv('test_label_set.csv')\n",
    "y = y.to_numpy()"
   ]
  },
  {
   "cell_type": "code",
   "execution_count": 6,
   "id": "2191ff87-24c7-4c29-a21f-6fc1ecb632c2",
   "metadata": {
    "tags": []
   },
   "outputs": [
    {
     "ename": "NameError",
     "evalue": "name 'np' is not defined",
     "output_type": "error",
     "traceback": [
      "\u001b[0;31m---------------------------------------------------------------------------\u001b[0m",
      "\u001b[0;31mNameError\u001b[0m                                 Traceback (most recent call last)",
      "Cell \u001b[0;32mIn[6], line 36\u001b[0m\n\u001b[1;32m     32\u001b[0m     \u001b[38;5;28;01mreturn\u001b[39;00m best_synapse_0, best_synapse_1, best_loss\n\u001b[1;32m     34\u001b[0m \u001b[38;5;66;03m# Define the search space for synapse_0 and synapse_1\u001b[39;00m\n\u001b[1;32m     35\u001b[0m search_space \u001b[38;5;241m=\u001b[39m {\n\u001b[0;32m---> 36\u001b[0m     \u001b[38;5;124m'\u001b[39m\u001b[38;5;124msynapse_0\u001b[39m\u001b[38;5;124m'\u001b[39m: [np\u001b[38;5;241m.\u001b[39mrandom\u001b[38;5;241m.\u001b[39muniform(\u001b[38;5;241m-\u001b[39m\u001b[38;5;241m1\u001b[39m, \u001b[38;5;241m1\u001b[39m, (X\u001b[38;5;241m.\u001b[39mshape[\u001b[38;5;241m1\u001b[39m], \u001b[38;5;241m4\u001b[39m)) \u001b[38;5;28;01mfor\u001b[39;00m _ \u001b[38;5;129;01min\u001b[39;00m \u001b[38;5;28mrange\u001b[39m(\u001b[38;5;241m100\u001b[39m)],  \u001b[38;5;66;03m# Adjust the range and number of samples\u001b[39;00m\n\u001b[1;32m     37\u001b[0m     \u001b[38;5;124m'\u001b[39m\u001b[38;5;124msynapse_1\u001b[39m\u001b[38;5;124m'\u001b[39m: [np\u001b[38;5;241m.\u001b[39mrandom\u001b[38;5;241m.\u001b[39muniform(\u001b[38;5;241m-\u001b[39m\u001b[38;5;241m1\u001b[39m, \u001b[38;5;241m1\u001b[39m, (\u001b[38;5;241m4\u001b[39m, \u001b[38;5;241m1\u001b[39m)) \u001b[38;5;28;01mfor\u001b[39;00m _ \u001b[38;5;129;01min\u001b[39;00m \u001b[38;5;28mrange\u001b[39m(\u001b[38;5;241m100\u001b[39m)]  \u001b[38;5;66;03m# Adjust the range and number of samples\u001b[39;00m\n\u001b[1;32m     38\u001b[0m }\n\u001b[1;32m     40\u001b[0m \u001b[38;5;66;03m# Perform Grid Search\u001b[39;00m\n\u001b[1;32m     41\u001b[0m best_synapse_0, best_synapse_1, best_loss \u001b[38;5;241m=\u001b[39m grid_search(search_space, objective_function)\n",
      "Cell \u001b[0;32mIn[6], line 36\u001b[0m, in \u001b[0;36m<listcomp>\u001b[0;34m(.0)\u001b[0m\n\u001b[1;32m     32\u001b[0m     \u001b[38;5;28;01mreturn\u001b[39;00m best_synapse_0, best_synapse_1, best_loss\n\u001b[1;32m     34\u001b[0m \u001b[38;5;66;03m# Define the search space for synapse_0 and synapse_1\u001b[39;00m\n\u001b[1;32m     35\u001b[0m search_space \u001b[38;5;241m=\u001b[39m {\n\u001b[0;32m---> 36\u001b[0m     \u001b[38;5;124m'\u001b[39m\u001b[38;5;124msynapse_0\u001b[39m\u001b[38;5;124m'\u001b[39m: [\u001b[43mnp\u001b[49m\u001b[38;5;241m.\u001b[39mrandom\u001b[38;5;241m.\u001b[39muniform(\u001b[38;5;241m-\u001b[39m\u001b[38;5;241m1\u001b[39m, \u001b[38;5;241m1\u001b[39m, (X\u001b[38;5;241m.\u001b[39mshape[\u001b[38;5;241m1\u001b[39m], \u001b[38;5;241m4\u001b[39m)) \u001b[38;5;28;01mfor\u001b[39;00m _ \u001b[38;5;129;01min\u001b[39;00m \u001b[38;5;28mrange\u001b[39m(\u001b[38;5;241m100\u001b[39m)],  \u001b[38;5;66;03m# Adjust the range and number of samples\u001b[39;00m\n\u001b[1;32m     37\u001b[0m     \u001b[38;5;124m'\u001b[39m\u001b[38;5;124msynapse_1\u001b[39m\u001b[38;5;124m'\u001b[39m: [np\u001b[38;5;241m.\u001b[39mrandom\u001b[38;5;241m.\u001b[39muniform(\u001b[38;5;241m-\u001b[39m\u001b[38;5;241m1\u001b[39m, \u001b[38;5;241m1\u001b[39m, (\u001b[38;5;241m4\u001b[39m, \u001b[38;5;241m1\u001b[39m)) \u001b[38;5;28;01mfor\u001b[39;00m _ \u001b[38;5;129;01min\u001b[39;00m \u001b[38;5;28mrange\u001b[39m(\u001b[38;5;241m100\u001b[39m)]  \u001b[38;5;66;03m# Adjust the range and number of samples\u001b[39;00m\n\u001b[1;32m     38\u001b[0m }\n\u001b[1;32m     40\u001b[0m \u001b[38;5;66;03m# Perform Grid Search\u001b[39;00m\n\u001b[1;32m     41\u001b[0m best_synapse_0, best_synapse_1, best_loss \u001b[38;5;241m=\u001b[39m grid_search(search_space, objective_function)\n",
      "\u001b[0;31mNameError\u001b[0m: name 'np' is not defined"
     ]
    }
   ],
   "source": [
    "# Define the objective function for the ANN (Mean Squared Error Loss)\n",
    "def objective_function(synapse_0, synapse_1):\n",
    "    # Feed forward through layers 0, 1, and 2\n",
    "    layer_0 = X\n",
    "    layer_1 = sigmoid(np.dot(layer_0, synapse_0))\n",
    "    layer_2 = sigmoid(np.dot(layer_1, synapse_1))\n",
    "\n",
    "    # Calculate the Mean Squared Error (MSE)\n",
    "    error = y - layer_2\n",
    "    mse = np.mean(error ** 2)\n",
    "\n",
    "    return mse\n",
    "\n",
    "# Sigmoid activation function\n",
    "def sigmoid(x):\n",
    "    return 1 / (1 + np.exp(-x))\n",
    "\n",
    "# Grid Search for training the ANN\n",
    "def grid_search(search_space, objective_function):\n",
    "    best_synapse_0 = None\n",
    "    best_synapse_1 = None\n",
    "    best_loss = float('inf')\n",
    "\n",
    "    for w0 in search_space['synapse_0']:\n",
    "        for w1 in search_space['synapse_1']:\n",
    "            loss = objective_function(w0, w1)\n",
    "            if loss < best_loss:\n",
    "                best_synapse_0 = w0\n",
    "                best_synapse_1 = w1\n",
    "                best_loss = loss\n",
    "\n",
    "    return best_synapse_0, best_synapse_1, best_loss\n",
    "\n",
    "# Define the search space for synapse_0 and synapse_1\n",
    "search_space = {\n",
    "    'synapse_0': [np.random.uniform(-1, 1, (X.shape[1], 4)) for _ in range(100)],  # Adjust the range and number of samples\n",
    "    'synapse_1': [np.random.uniform(-1, 1, (4, 1)) for _ in range(100)]  # Adjust the range and number of samples\n",
    "}\n",
    "\n",
    "# Perform Grid Search\n",
    "best_synapse_0, best_synapse_1, best_loss = grid_search(search_space, objective_function)\n",
    "\n",
    "# Print the best weights and the corresponding loss\n",
    "print(\"Best Weights for Synapse 0:\")\n",
    "print(best_synapse_0)\n",
    "print(\"Best Weights for Synapse 1:\")\n",
    "print(best_synapse_1)\n",
    "print(\"Best Loss (MSE):\", best_loss)"
   ]
  },
  {
   "cell_type": "code",
   "execution_count": null,
   "id": "f73ca96e-ebed-49b6-8d2e-a714c406c0c4",
   "metadata": {},
   "outputs": [],
   "source": []
  }
 ],
 "metadata": {
  "kernelspec": {
   "display_name": "Python 3 (ipykernel)",
   "language": "python",
   "name": "python3"
  },
  "language_info": {
   "codemirror_mode": {
    "name": "ipython",
    "version": 3
   },
   "file_extension": ".py",
   "mimetype": "text/x-python",
   "name": "python",
   "nbconvert_exporter": "python",
   "pygments_lexer": "ipython3",
   "version": "3.10.12"
  }
 },
 "nbformat": 4,
 "nbformat_minor": 5
}
